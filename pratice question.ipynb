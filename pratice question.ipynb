{
 "cells": [
  {
   "cell_type": "code",
   "execution_count": 1,
   "id": "1d5a9c0d-de2d-4e39-96e3-d335543ae952",
   "metadata": {},
   "outputs": [],
   "source": [
    "# Pratice question\n",
    "# # 1.count the number of perfect square number in a given range ,range is taken as input from user\n",
    "# 2.write a python program to generate the following pattern \n",
    "#       *\n",
    "#      * *\n",
    "#     * * *\n",
    "#    * * * *\n",
    "#     * * *\n",
    "#     * * \n",
    "#      *\n",
    "# 3.take a number a input from use and display weather it is prime or not "
   ]
  },
  {
   "cell_type": "code",
   "execution_count": 5,
   "id": "24b68c50-8f9c-4043-8a40-9bee1072e841",
   "metadata": {},
   "outputs": [
    {
     "name": "stdin",
     "output_type": "stream",
     "text": [
      "Enter the start of the range:  2\n",
      "Enter the end of the range:  26\n"
     ]
    },
    {
     "name": "stdout",
     "output_type": "stream",
     "text": [
      "The number of perfect square numbers in the range [2, 26] is: 4\n"
     ]
    }
   ],
   "source": [
    "# 1)count the number of perfect square number in a given range ,range is taken as input from user\n",
    "\n",
    "import math\n",
    "\n",
    "def count_perfect_squares(start, end):\n",
    "    start_sqrt = math.ceil(math.sqrt(start))\n",
    "    end_sqrt = math.floor(math.sqrt(end))\n",
    "    \n",
    "    count = end_sqrt - start_sqrt + 1\n",
    "    \n",
    "    if count < 0:\n",
    "        count = 0\n",
    "    \n",
    "    return count\n",
    "\n",
    "start = int(input(\"Enter the start of the range: \"))\n",
    "end = int(input(\"Enter the end of the range: \"))\n",
    "\n",
    "print(f\"The number of perfect square numbers in the range [{start}, {end}] is: {count_perfect_squares(start, end)}\")\n"
   ]
  },
  {
   "cell_type": "code",
   "execution_count": 9,
   "id": "0f88f399-b41b-4d29-a609-2fd10f3c0f0e",
   "metadata": {},
   "outputs": [
    {
     "name": "stdin",
     "output_type": "stream",
     "text": [
      "Enter a value you want to generate a pattern 5\n"
     ]
    },
    {
     "name": "stdout",
     "output_type": "stream",
     "text": [
      "    * \n",
      "   * * \n",
      "  * * * \n",
      " * * * * \n",
      "* * * * * \n",
      " * * * * \n",
      "  * * * \n",
      "   * * \n",
      "    * \n"
     ]
    }
   ],
   "source": [
    "# 2.write a python program to generate the following pattern \n",
    "#       *\n",
    "#      * *\n",
    "#     * * *\n",
    "#    * * * *\n",
    "#     * * *\n",
    "#     * * \n",
    "#      *\n",
    "\n",
    "def generate_pattern(n):\n",
    "    \n",
    "    for i in range(1, n+1):\n",
    "        print(' ' * (n - i) + '* ' * i)\n",
    "    \n",
    "    \n",
    "    for i in range(n-1, 0, -1):\n",
    "        print(' ' * (n - i) + '* ' * i)\n",
    "\n",
    "n = int(input(\"Enter a value you want to generate a pattern\"))\n",
    "generate_pattern(n)\n"
   ]
  },
  {
   "cell_type": "code",
   "execution_count": null,
   "id": "a97b7eb9-15e3-4525-a4f4-2b0c434add41",
   "metadata": {},
   "outputs": [],
   "source": [
    "# 3.take a number a input from use and display weather it is prime or not \n",
    "def is_prime(num):\n",
    "    if num>1:\n",
    "        for i in range (2,num//2+1):\n",
    "            if num%i==0:\n",
    "                return \"Not prime\"\n",
    "                break\n",
    "        else:\n",
    "            return \"Its prime\"\n",
    "    elif num==1:\n",
    "        return \"1 is neither prime nor composite\"\n",
    "    else:\n",
    "        return \"Prime is property of positive integer\"\n",
    "n=int(input(\"Enter a value you want check prime or not\"))\n",
    "is_prime(n)"
   ]
  }
 ],
 "metadata": {
  "kernelspec": {
   "display_name": "Python 3 (ipykernel)",
   "language": "python",
   "name": "python3"
  },
  "language_info": {
   "codemirror_mode": {
    "name": "ipython",
    "version": 3
   },
   "file_extension": ".py",
   "mimetype": "text/x-python",
   "name": "python",
   "nbconvert_exporter": "python",
   "pygments_lexer": "ipython3",
   "version": "3.11.7"
  }
 },
 "nbformat": 4,
 "nbformat_minor": 5
}
